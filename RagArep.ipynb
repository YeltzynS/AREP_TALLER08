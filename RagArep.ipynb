{
  "nbformat": 4,
  "nbformat_minor": 0,
  "metadata": {
    "colab": {
      "provenance": []
    },
    "kernelspec": {
      "name": "python3",
      "display_name": "Python 3"
    },
    "language_info": {
      "name": "python"
    }
  },
  "cells": [
    {
      "cell_type": "code",
      "execution_count": 1,
      "metadata": {
        "colab": {
          "base_uri": "https://localhost:8080/"
        },
        "id": "hgzP1WKS3EJ8",
        "outputId": "55c80f96-0465-46a0-bedc-f9aa65308a28"
      },
      "outputs": [
        {
          "output_type": "stream",
          "name": "stdout",
          "text": [
            "\u001b[?25l   \u001b[90m━━━━━━━━━━━━━━━━━━━━━━━━━━━━━━━━━━━━━━━━\u001b[0m \u001b[32m0.0/2.5 MB\u001b[0m \u001b[31m?\u001b[0m eta \u001b[36m-:--:--\u001b[0m\r\u001b[2K   \u001b[91m━━━━━━━\u001b[0m\u001b[91m╸\u001b[0m\u001b[90m━━━━━━━━━━━━━━━━━━━━━━━━━━━━━━━━\u001b[0m \u001b[32m0.5/2.5 MB\u001b[0m \u001b[31m16.9 MB/s\u001b[0m eta \u001b[36m0:00:01\u001b[0m\r\u001b[2K   \u001b[91m━━━━━━━━━━━━━━━━━━━━━━━━━━━━━━━━━━━━━━━\u001b[0m\u001b[91m╸\u001b[0m \u001b[32m2.5/2.5 MB\u001b[0m \u001b[31m36.4 MB/s\u001b[0m eta \u001b[36m0:00:01\u001b[0m\r\u001b[2K   \u001b[90m━━━━━━━━━━━━━━━━━━━━━━━━━━━━━━━━━━━━━━━━\u001b[0m \u001b[32m2.5/2.5 MB\u001b[0m \u001b[31m24.5 MB/s\u001b[0m eta \u001b[36m0:00:00\u001b[0m\n",
            "\u001b[2K   \u001b[90m━━━━━━━━━━━━━━━━━━━━━━━━━━━━━━━━━━━━━━━━\u001b[0m \u001b[32m136.5/136.5 kB\u001b[0m \u001b[31m7.8 MB/s\u001b[0m eta \u001b[36m0:00:00\u001b[0m\n",
            "\u001b[2K   \u001b[90m━━━━━━━━━━━━━━━━━━━━━━━━━━━━━━━━━━━━━━━━\u001b[0m \u001b[32m1.0/1.0 MB\u001b[0m \u001b[31m30.0 MB/s\u001b[0m eta \u001b[36m0:00:00\u001b[0m\n",
            "\u001b[2K   \u001b[90m━━━━━━━━━━━━━━━━━━━━━━━━━━━━━━━━━━━━━━━━\u001b[0m \u001b[32m41.2/41.2 kB\u001b[0m \u001b[31m2.6 MB/s\u001b[0m eta \u001b[36m0:00:00\u001b[0m\n",
            "\u001b[2K   \u001b[90m━━━━━━━━━━━━━━━━━━━━━━━━━━━━━━━━━━━━━━━━\u001b[0m \u001b[32m46.5/46.5 kB\u001b[0m \u001b[31m2.1 MB/s\u001b[0m eta \u001b[36m0:00:00\u001b[0m\n",
            "\u001b[2K   \u001b[90m━━━━━━━━━━━━━━━━━━━━━━━━━━━━━━━━━━━━━━━━\u001b[0m \u001b[32m50.9/50.9 kB\u001b[0m \u001b[31m2.6 MB/s\u001b[0m eta \u001b[36m0:00:00\u001b[0m\n",
            "\u001b[?25h"
          ]
        }
      ],
      "source": [
        "%pip install --quiet --upgrade langchain-text-splitters langchain-community langgraph"
      ]
    },
    {
      "cell_type": "code",
      "source": [
        "!pip install matplotlib-venn"
      ],
      "metadata": {
        "colab": {
          "base_uri": "https://localhost:8080/"
        },
        "id": "JtmMPi_K3beE",
        "outputId": "8ad100e4-3895-4021-cf14-6c5d31cd00ee"
      },
      "execution_count": 2,
      "outputs": [
        {
          "output_type": "stream",
          "name": "stdout",
          "text": [
            "Requirement already satisfied: matplotlib-venn in /usr/local/lib/python3.11/dist-packages (1.1.2)\n",
            "Requirement already satisfied: matplotlib in /usr/local/lib/python3.11/dist-packages (from matplotlib-venn) (3.10.0)\n",
            "Requirement already satisfied: numpy in /usr/local/lib/python3.11/dist-packages (from matplotlib-venn) (2.0.2)\n",
            "Requirement already satisfied: scipy in /usr/local/lib/python3.11/dist-packages (from matplotlib-venn) (1.14.1)\n",
            "Requirement already satisfied: contourpy>=1.0.1 in /usr/local/lib/python3.11/dist-packages (from matplotlib->matplotlib-venn) (1.3.1)\n",
            "Requirement already satisfied: cycler>=0.10 in /usr/local/lib/python3.11/dist-packages (from matplotlib->matplotlib-venn) (0.12.1)\n",
            "Requirement already satisfied: fonttools>=4.22.0 in /usr/local/lib/python3.11/dist-packages (from matplotlib->matplotlib-venn) (4.56.0)\n",
            "Requirement already satisfied: kiwisolver>=1.3.1 in /usr/local/lib/python3.11/dist-packages (from matplotlib->matplotlib-venn) (1.4.8)\n",
            "Requirement already satisfied: packaging>=20.0 in /usr/local/lib/python3.11/dist-packages (from matplotlib->matplotlib-venn) (24.2)\n",
            "Requirement already satisfied: pillow>=8 in /usr/local/lib/python3.11/dist-packages (from matplotlib->matplotlib-venn) (11.1.0)\n",
            "Requirement already satisfied: pyparsing>=2.3.1 in /usr/local/lib/python3.11/dist-packages (from matplotlib->matplotlib-venn) (3.2.1)\n",
            "Requirement already satisfied: python-dateutil>=2.7 in /usr/local/lib/python3.11/dist-packages (from matplotlib->matplotlib-venn) (2.8.2)\n",
            "Requirement already satisfied: six>=1.5 in /usr/local/lib/python3.11/dist-packages (from python-dateutil>=2.7->matplotlib->matplotlib-venn) (1.17.0)\n"
          ]
        }
      ]
    },
    {
      "cell_type": "code",
      "source": [
        "!pip install langchain-openai"
      ],
      "metadata": {
        "colab": {
          "base_uri": "https://localhost:8080/"
        },
        "id": "0nSlvCJG3ssp",
        "outputId": "940a7d39-1d63-41b4-d37e-ad8407caaccf"
      },
      "execution_count": 3,
      "outputs": [
        {
          "output_type": "stream",
          "name": "stdout",
          "text": [
            "Collecting langchain-openai\n",
            "  Downloading langchain_openai-0.3.9-py3-none-any.whl.metadata (2.3 kB)\n",
            "Requirement already satisfied: langchain-core<1.0.0,>=0.3.45 in /usr/local/lib/python3.11/dist-packages (from langchain-openai) (0.3.45)\n",
            "Requirement already satisfied: openai<2.0.0,>=1.66.3 in /usr/local/lib/python3.11/dist-packages (from langchain-openai) (1.66.3)\n",
            "Collecting tiktoken<1,>=0.7 (from langchain-openai)\n",
            "  Downloading tiktoken-0.9.0-cp311-cp311-manylinux_2_17_x86_64.manylinux2014_x86_64.whl.metadata (6.7 kB)\n",
            "Requirement already satisfied: langsmith<0.4,>=0.1.125 in /usr/local/lib/python3.11/dist-packages (from langchain-core<1.0.0,>=0.3.45->langchain-openai) (0.3.15)\n",
            "Requirement already satisfied: tenacity!=8.4.0,<10.0.0,>=8.1.0 in /usr/local/lib/python3.11/dist-packages (from langchain-core<1.0.0,>=0.3.45->langchain-openai) (9.0.0)\n",
            "Requirement already satisfied: jsonpatch<2.0,>=1.33 in /usr/local/lib/python3.11/dist-packages (from langchain-core<1.0.0,>=0.3.45->langchain-openai) (1.33)\n",
            "Requirement already satisfied: PyYAML>=5.3 in /usr/local/lib/python3.11/dist-packages (from langchain-core<1.0.0,>=0.3.45->langchain-openai) (6.0.2)\n",
            "Requirement already satisfied: packaging<25,>=23.2 in /usr/local/lib/python3.11/dist-packages (from langchain-core<1.0.0,>=0.3.45->langchain-openai) (24.2)\n",
            "Requirement already satisfied: typing-extensions>=4.7 in /usr/local/lib/python3.11/dist-packages (from langchain-core<1.0.0,>=0.3.45->langchain-openai) (4.12.2)\n",
            "Requirement already satisfied: pydantic<3.0.0,>=2.5.2 in /usr/local/lib/python3.11/dist-packages (from langchain-core<1.0.0,>=0.3.45->langchain-openai) (2.10.6)\n",
            "Requirement already satisfied: anyio<5,>=3.5.0 in /usr/local/lib/python3.11/dist-packages (from openai<2.0.0,>=1.66.3->langchain-openai) (4.9.0)\n",
            "Requirement already satisfied: distro<2,>=1.7.0 in /usr/local/lib/python3.11/dist-packages (from openai<2.0.0,>=1.66.3->langchain-openai) (1.9.0)\n",
            "Requirement already satisfied: httpx<1,>=0.23.0 in /usr/local/lib/python3.11/dist-packages (from openai<2.0.0,>=1.66.3->langchain-openai) (0.28.1)\n",
            "Requirement already satisfied: jiter<1,>=0.4.0 in /usr/local/lib/python3.11/dist-packages (from openai<2.0.0,>=1.66.3->langchain-openai) (0.9.0)\n",
            "Requirement already satisfied: sniffio in /usr/local/lib/python3.11/dist-packages (from openai<2.0.0,>=1.66.3->langchain-openai) (1.3.1)\n",
            "Requirement already satisfied: tqdm>4 in /usr/local/lib/python3.11/dist-packages (from openai<2.0.0,>=1.66.3->langchain-openai) (4.67.1)\n",
            "Requirement already satisfied: regex>=2022.1.18 in /usr/local/lib/python3.11/dist-packages (from tiktoken<1,>=0.7->langchain-openai) (2024.11.6)\n",
            "Requirement already satisfied: requests>=2.26.0 in /usr/local/lib/python3.11/dist-packages (from tiktoken<1,>=0.7->langchain-openai) (2.32.3)\n",
            "Requirement already satisfied: idna>=2.8 in /usr/local/lib/python3.11/dist-packages (from anyio<5,>=3.5.0->openai<2.0.0,>=1.66.3->langchain-openai) (3.10)\n",
            "Requirement already satisfied: certifi in /usr/local/lib/python3.11/dist-packages (from httpx<1,>=0.23.0->openai<2.0.0,>=1.66.3->langchain-openai) (2025.1.31)\n",
            "Requirement already satisfied: httpcore==1.* in /usr/local/lib/python3.11/dist-packages (from httpx<1,>=0.23.0->openai<2.0.0,>=1.66.3->langchain-openai) (1.0.7)\n",
            "Requirement already satisfied: h11<0.15,>=0.13 in /usr/local/lib/python3.11/dist-packages (from httpcore==1.*->httpx<1,>=0.23.0->openai<2.0.0,>=1.66.3->langchain-openai) (0.14.0)\n",
            "Requirement already satisfied: jsonpointer>=1.9 in /usr/local/lib/python3.11/dist-packages (from jsonpatch<2.0,>=1.33->langchain-core<1.0.0,>=0.3.45->langchain-openai) (3.0.0)\n",
            "Requirement already satisfied: orjson<4.0.0,>=3.9.14 in /usr/local/lib/python3.11/dist-packages (from langsmith<0.4,>=0.1.125->langchain-core<1.0.0,>=0.3.45->langchain-openai) (3.10.15)\n",
            "Requirement already satisfied: requests-toolbelt<2.0.0,>=1.0.0 in /usr/local/lib/python3.11/dist-packages (from langsmith<0.4,>=0.1.125->langchain-core<1.0.0,>=0.3.45->langchain-openai) (1.0.0)\n",
            "Requirement already satisfied: zstandard<0.24.0,>=0.23.0 in /usr/local/lib/python3.11/dist-packages (from langsmith<0.4,>=0.1.125->langchain-core<1.0.0,>=0.3.45->langchain-openai) (0.23.0)\n",
            "Requirement already satisfied: annotated-types>=0.6.0 in /usr/local/lib/python3.11/dist-packages (from pydantic<3.0.0,>=2.5.2->langchain-core<1.0.0,>=0.3.45->langchain-openai) (0.7.0)\n",
            "Requirement already satisfied: pydantic-core==2.27.2 in /usr/local/lib/python3.11/dist-packages (from pydantic<3.0.0,>=2.5.2->langchain-core<1.0.0,>=0.3.45->langchain-openai) (2.27.2)\n",
            "Requirement already satisfied: charset-normalizer<4,>=2 in /usr/local/lib/python3.11/dist-packages (from requests>=2.26.0->tiktoken<1,>=0.7->langchain-openai) (3.4.1)\n",
            "Requirement already satisfied: urllib3<3,>=1.21.1 in /usr/local/lib/python3.11/dist-packages (from requests>=2.26.0->tiktoken<1,>=0.7->langchain-openai) (2.3.0)\n",
            "Downloading langchain_openai-0.3.9-py3-none-any.whl (60 kB)\n",
            "\u001b[2K   \u001b[90m━━━━━━━━━━━━━━━━━━━━━━━━━━━━━━━━━━━━━━━━\u001b[0m \u001b[32m60.9/60.9 kB\u001b[0m \u001b[31m2.3 MB/s\u001b[0m eta \u001b[36m0:00:00\u001b[0m\n",
            "\u001b[?25hDownloading tiktoken-0.9.0-cp311-cp311-manylinux_2_17_x86_64.manylinux2014_x86_64.whl (1.2 MB)\n",
            "\u001b[2K   \u001b[90m━━━━━━━━━━━━━━━━━━━━━━━━━━━━━━━━━━━━━━━━\u001b[0m \u001b[32m1.2/1.2 MB\u001b[0m \u001b[31m18.3 MB/s\u001b[0m eta \u001b[36m0:00:00\u001b[0m\n",
            "\u001b[?25hInstalling collected packages: tiktoken, langchain-openai\n",
            "Successfully installed langchain-openai-0.3.9 tiktoken-0.9.0\n"
          ]
        }
      ]
    },
    {
      "cell_type": "code",
      "source": [],
      "metadata": {
        "id": "BAyo-2tC8t8F"
      },
      "execution_count": 38,
      "outputs": []
    },
    {
      "cell_type": "code",
      "source": [
        "# | output: false\n",
        "# | echo: false\n",
        "\n",
        "from langchain_openai import ChatOpenAI\n",
        "\n",
        "llm = ChatOpenAI(model=\"gpt-4o-mini\")"
      ],
      "metadata": {
        "id": "upVo_CBg86zO"
      },
      "execution_count": 6,
      "outputs": []
    },
    {
      "cell_type": "code",
      "source": [
        "# | output: false\n",
        "# | echo: false\n",
        "\n",
        "from langchain_core.vectorstores import InMemoryVectorStore\n",
        "from langchain_openai import OpenAIEmbeddings # Import OpenAIEmbeddings\n",
        "\n",
        "# Initialize embeddings object\n",
        "embeddings = OpenAIEmbeddings()\n",
        "\n",
        "vector_store = InMemoryVectorStore(embeddings)"
      ],
      "metadata": {
        "id": "LQ5hkvMO9ARg"
      },
      "execution_count": 8,
      "outputs": []
    },
    {
      "cell_type": "code",
      "source": [
        "import bs4\n",
        "from langchain_community.document_loaders import WebBaseLoader\n",
        "\n",
        "# Filtro para extraer títulos y contenido de la documentación de Python\n",
        "bs4_strainer = bs4.SoupStrainer([\"h1\", \"h2\", \"h3\", \"div\"])\n",
        "loader = WebBaseLoader(\n",
        "    web_paths=(\"https://docs.python.org/3/tutorial/index.html\",),\n",
        "    bs_kwargs={\"parse_only\": bs4_strainer},\n",
        ")\n",
        "docs = loader.load()\n",
        "\n",
        "# Verificar que se cargó al menos un documento\n",
        "assert len(docs) == 1\n",
        "\n",
        "# Mostrar el contenido extraído\n",
        "print(f\"Total characters: {len(docs[0].page_content)}\")\n",
        "print(\"Contenido extraído:\")\n",
        "print(docs[0].page_content)"
      ],
      "metadata": {
        "colab": {
          "base_uri": "https://localhost:8080/"
        },
        "id": "e6BnFX7d-m0Z",
        "outputId": "23c1aca2-3854-45a7-b7f6-539e52e11b19"
      },
      "execution_count": 23,
      "outputs": [
        {
          "output_type": "stream",
          "name": "stdout",
          "text": [
            "Total characters: 7255\n",
            "Contenido extraído:\n",
            "\n",
            "\n",
            "\n",
            "\n",
            "\n",
            "\n",
            "\n",
            "\n",
            "\n",
            "\n",
            "\n",
            "\n",
            "\n",
            "\n",
            "\n",
            "\n",
            "\n",
            "\n",
            "\n",
            "\n",
            "\n",
            "\n",
            "\n",
            "\n",
            "    Theme\n",
            "    \n",
            "Auto\n",
            "Light\n",
            "Dark\n",
            "\n",
            "\n",
            "\n",
            "Previous topic\n",
            "Changelog\n",
            "\n",
            "\n",
            "Next topic\n",
            "1. Whetting Your Appetite\n",
            "\n",
            "\n",
            "This Page\n",
            "\n",
            "Report a Bug\n",
            "\n",
            "Show Source\n",
            "        \n",
            "\n",
            "\n",
            "\n",
            "\n",
            "\n",
            "\n",
            "Navigation\n",
            "\n",
            "\n",
            "index\n",
            "\n",
            "modules |\n",
            "\n",
            "next |\n",
            "\n",
            "previous |\n",
            "\n",
            "Python »\n",
            "\n",
            "\n",
            "\n",
            "\n",
            "\n",
            "\n",
            "\n",
            "3.13.2 Documentation »\n",
            "    \n",
            "The Python Tutorial\n",
            "\n",
            "\n",
            "\n",
            "\n",
            "\n",
            "\n",
            "\n",
            "                     |\n",
            "                \n",
            "\n",
            "\n",
            "    Theme\n",
            "    \n",
            "Auto\n",
            "Light\n",
            "Dark\n",
            "\n",
            " |\n",
            "\n",
            "\n",
            "\n",
            "\n",
            "\n",
            "\n",
            "The Python Tutorial¶\n",
            "Python is an easy to learn, powerful programming language. It has efficient\n",
            "high-level data structures and a simple but effective approach to\n",
            "object-oriented programming. Python’s elegant syntax and dynamic typing,\n",
            "together with its interpreted nature, make it an ideal language for scripting\n",
            "and rapid application development in many areas on most platforms.\n",
            "The Python interpreter and the extensive standard library are freely available\n",
            "in source or binary form for all major platforms from the Python web site,\n",
            "https://www.python.org/, and may be freely distributed. The same site also\n",
            "contains distributions of and pointers to many free third party Python modules,\n",
            "programs and tools, and additional documentation.\n",
            "The Python interpreter is easily extended with new functions and data types\n",
            "implemented in C or C++ (or other languages callable from C). Python is also\n",
            "suitable as an extension language for customizable applications.\n",
            "This tutorial introduces the reader informally to the basic concepts and\n",
            "features of the Python language and system. It helps to have a Python\n",
            "interpreter handy for hands-on experience, but all examples are self-contained,\n",
            "so the tutorial can be read off-line as well.\n",
            "For a description of standard objects and modules, see The Python Standard Library.\n",
            "The Python Language Reference gives a more formal definition of the language.  To write\n",
            "extensions in C or C++, read Extending and Embedding the Python Interpreter and\n",
            "Python/C API Reference Manual. There are also several books covering Python in depth.\n",
            "This tutorial does not attempt to be comprehensive and cover every single\n",
            "feature, or even every commonly used feature. Instead, it introduces many of\n",
            "Python’s most noteworthy features, and will give you a good idea of the\n",
            "language’s flavor and style. After reading it, you will be able to read and\n",
            "write Python modules and programs, and you will be ready to learn more about the\n",
            "various Python library modules described in The Python Standard Library.\n",
            "The Glossary is also worth going through.\n",
            "\n",
            "\n",
            "1. Whetting Your Appetite\n",
            "2. Using the Python Interpreter\n",
            "2.1. Invoking the Interpreter\n",
            "2.1.1. Argument Passing\n",
            "2.1.2. Interactive Mode\n",
            "\n",
            "\n",
            "2.2. The Interpreter and Its Environment\n",
            "2.2.1. Source Code Encoding\n",
            "\n",
            "\n",
            "\n",
            "\n",
            "3. An Informal Introduction to Python\n",
            "3.1. Using Python as a Calculator\n",
            "3.1.1. Numbers\n",
            "3.1.2. Text\n",
            "3.1.3. Lists\n",
            "\n",
            "\n",
            "3.2. First Steps Towards Programming\n",
            "\n",
            "\n",
            "4. More Control Flow Tools\n",
            "4.1. if Statements\n",
            "4.2. for Statements\n",
            "4.3. The range() Function\n",
            "4.4. break and continue Statements\n",
            "4.5. else Clauses on Loops\n",
            "4.6. pass Statements\n",
            "4.7. match Statements\n",
            "4.8. Defining Functions\n",
            "4.9. More on Defining Functions\n",
            "4.9.1. Default Argument Values\n",
            "4.9.2. Keyword Arguments\n",
            "4.9.3. Special parameters\n",
            "4.9.3.1. Positional-or-Keyword Arguments\n",
            "4.9.3.2. Positional-Only Parameters\n",
            "4.9.3.3. Keyword-Only Arguments\n",
            "4.9.3.4. Function Examples\n",
            "4.9.3.5. Recap\n",
            "\n",
            "\n",
            "4.9.4. Arbitrary Argument Lists\n",
            "4.9.5. Unpacking Argument Lists\n",
            "4.9.6. Lambda Expressions\n",
            "4.9.7. Documentation Strings\n",
            "4.9.8. Function Annotations\n",
            "\n",
            "\n",
            "4.10. Intermezzo: Coding Style\n",
            "\n",
            "\n",
            "5. Data Structures\n",
            "5.1. More on Lists\n",
            "5.1.1. Using Lists as Stacks\n",
            "5.1.2. Using Lists as Queues\n",
            "5.1.3. List Comprehensions\n",
            "5.1.4. Nested List Comprehensions\n",
            "\n",
            "\n",
            "5.2. The del statement\n",
            "5.3. Tuples and Sequences\n",
            "5.4. Sets\n",
            "5.5. Dictionaries\n",
            "5.6. Looping Techniques\n",
            "5.7. More on Conditions\n",
            "5.8. Comparing Sequences and Other Types\n",
            "\n",
            "\n",
            "6. Modules\n",
            "6.1. More on Modules\n",
            "6.1.1. Executing modules as scripts\n",
            "6.1.2. The Module Search Path\n",
            "6.1.3. “Compiled” Python files\n",
            "\n",
            "\n",
            "6.2. Standard Modules\n",
            "6.3. The dir() Function\n",
            "6.4. Packages\n",
            "6.4.1. Importing * From a Package\n",
            "6.4.2. Intra-package References\n",
            "6.4.3. Packages in Multiple Directories\n",
            "\n",
            "\n",
            "\n",
            "\n",
            "7. Input and Output\n",
            "7.1. Fancier Output Formatting\n",
            "7.1.1. Formatted String Literals\n",
            "7.1.2. The String format() Method\n",
            "7.1.3. Manual String Formatting\n",
            "7.1.4. Old string formatting\n",
            "\n",
            "\n",
            "7.2. Reading and Writing Files\n",
            "7.2.1. Methods of File Objects\n",
            "7.2.2. Saving structured data with json\n",
            "\n",
            "\n",
            "\n",
            "\n",
            "8. Errors and Exceptions\n",
            "8.1. Syntax Errors\n",
            "8.2. Exceptions\n",
            "8.3. Handling Exceptions\n",
            "8.4. Raising Exceptions\n",
            "8.5. Exception Chaining\n",
            "8.6. User-defined Exceptions\n",
            "8.7. Defining Clean-up Actions\n",
            "8.8. Predefined Clean-up Actions\n",
            "8.9. Raising and Handling Multiple Unrelated Exceptions\n",
            "8.10. Enriching Exceptions with Notes\n",
            "\n",
            "\n",
            "9. Classes\n",
            "9.1. A Word About Names and Objects\n",
            "9.2. Python Scopes and Namespaces\n",
            "9.2.1. Scopes and Namespaces Example\n",
            "\n",
            "\n",
            "9.3. A First Look at Classes\n",
            "9.3.1. Class Definition Syntax\n",
            "9.3.2. Class Objects\n",
            "9.3.3. Instance Objects\n",
            "9.3.4. Method Objects\n",
            "9.3.5. Class and Instance Variables\n",
            "\n",
            "\n",
            "9.4. Random Remarks\n",
            "9.5. Inheritance\n",
            "9.5.1. Multiple Inheritance\n",
            "\n",
            "\n",
            "9.6. Private Variables\n",
            "9.7. Odds and Ends\n",
            "9.8. Iterators\n",
            "9.9. Generators\n",
            "9.10. Generator Expressions\n",
            "\n",
            "\n",
            "10. Brief Tour of the Standard Library\n",
            "10.1. Operating System Interface\n",
            "10.2. File Wildcards\n",
            "10.3. Command Line Arguments\n",
            "10.4. Error Output Redirection and Program Termination\n",
            "10.5. String Pattern Matching\n",
            "10.6. Mathematics\n",
            "10.7. Internet Access\n",
            "10.8. Dates and Times\n",
            "10.9. Data Compression\n",
            "10.10. Performance Measurement\n",
            "10.11. Quality Control\n",
            "10.12. Batteries Included\n",
            "\n",
            "\n",
            "11. Brief Tour of the Standard Library — Part II\n",
            "11.1. Output Formatting\n",
            "11.2. Templating\n",
            "11.3. Working with Binary Data Record Layouts\n",
            "11.4. Multi-threading\n",
            "11.5. Logging\n",
            "11.6. Weak References\n",
            "11.7. Tools for Working with Lists\n",
            "11.8. Decimal Floating-Point Arithmetic\n",
            "\n",
            "\n",
            "12. Virtual Environments and Packages\n",
            "12.1. Introduction\n",
            "12.2. Creating Virtual Environments\n",
            "12.3. Managing Packages with pip\n",
            "\n",
            "\n",
            "13. What Now?\n",
            "14. Interactive Input Editing and History Substitution\n",
            "14.1. Tab Completion and History Editing\n",
            "14.2. Alternatives to the Interactive Interpreter\n",
            "\n",
            "\n",
            "15. Floating-Point Arithmetic:  Issues and Limitations\n",
            "15.1. Representation Error\n",
            "\n",
            "\n",
            "16. Appendix\n",
            "16.1. Interactive Mode\n",
            "16.1.1. Error Handling\n",
            "16.1.2. Executable Python Scripts\n",
            "16.1.3. The Interactive Startup File\n",
            "16.1.4. The Customization Modules\n",
            "\n",
            "\n",
            "\n",
            "\n",
            "\n",
            "\n",
            "\n",
            "\n",
            "\n",
            "\n",
            "\n",
            "\n",
            "\n",
            "\n",
            "Previous topic\n",
            "Changelog\n",
            "\n",
            "\n",
            "Next topic\n",
            "1. Whetting Your Appetite\n",
            "\n",
            "\n",
            "This Page\n",
            "\n",
            "Report a Bug\n",
            "\n",
            "Show Source\n",
            "        \n",
            "\n",
            "\n",
            "\n",
            "\n",
            "\n",
            "«\n",
            "\n",
            "\n",
            "\n",
            "\n",
            "Navigation\n",
            "\n",
            "\n",
            "index\n",
            "\n",
            "modules |\n",
            "\n",
            "next |\n",
            "\n",
            "previous |\n",
            "\n",
            "Python »\n",
            "\n",
            "\n",
            "\n",
            "\n",
            "\n",
            "\n",
            "\n",
            "3.13.2 Documentation »\n",
            "    \n",
            "The Python Tutorial\n",
            "\n",
            "\n",
            "\n",
            "\n",
            "\n",
            "\n",
            "\n",
            "                     |\n",
            "                \n",
            "\n",
            "\n",
            "    Theme\n",
            "    \n",
            "Auto\n",
            "Light\n",
            "Dark\n",
            "\n",
            " |\n",
            "\n",
            "\n",
            "    © \n",
            "      \n",
            "    \n",
            "    Copyright\n",
            "    \n",
            "      \n",
            "     2001-2025, Python Software Foundation.\n",
            "    \n",
            "    This page is licensed under the Python Software Foundation License Version 2.\n",
            "    \n",
            "    Examples, recipes, and other code in the documentation are additionally licensed under the Zero Clause BSD License.\n",
            "    \n",
            "    \n",
            "      See History and License for more information.\n",
            "\n",
            "\n",
            "    The Python Software Foundation is a non-profit corporation.\n",
            "Please donate.\n",
            "\n",
            "\n",
            "      Last updated on Mar 21, 2025 (10:47 UTC).\n",
            "    \n",
            "      Found a bug?\n",
            "    \n",
            "    \n",
            "\n",
            "    Created using Sphinx 8.2.3.\n",
            "    \n"
          ]
        }
      ]
    },
    {
      "cell_type": "code",
      "source": [
        "from langchain_text_splitters import RecursiveCharacterTextSplitter\n",
        "\n",
        "text_splitter = RecursiveCharacterTextSplitter(\n",
        "    chunk_size=1000,  # chunk size (characters)\n",
        "    chunk_overlap=200,  # chunk overlap (characters)\n",
        "    add_start_index=True,  # track index in original document\n",
        ")\n",
        "all_splits = text_splitter.split_documents(docs)\n",
        "\n",
        "print(f\"Split blog post into {len(all_splits)} sub-documents.\")"
      ],
      "metadata": {
        "colab": {
          "base_uri": "https://localhost:8080/"
        },
        "id": "srmlEZuo-qOo",
        "outputId": "035cd30e-52d5-4efe-e7fd-f4134fee4bea"
      },
      "execution_count": 24,
      "outputs": [
        {
          "output_type": "stream",
          "name": "stdout",
          "text": [
            "Split blog post into 10 sub-documents.\n"
          ]
        }
      ]
    },
    {
      "cell_type": "code",
      "source": [
        "document_ids = vector_store.add_documents(documents=all_splits)\n",
        "\n",
        "print(document_ids[:3])"
      ],
      "metadata": {
        "colab": {
          "base_uri": "https://localhost:8080/"
        },
        "id": "3WKqGId5_IGG",
        "outputId": "49aa5d4e-19c5-4dab-dfe2-b7a8c37b7954"
      },
      "execution_count": 25,
      "outputs": [
        {
          "output_type": "stream",
          "name": "stdout",
          "text": [
            "['79ce3120-2b9a-44fa-a791-8a674f957099', '3b50f531-68cd-4cbf-bd66-5afabc67f646', 'a32f92e0-c06b-4cc7-809c-56fde686d2dc']\n"
          ]
        }
      ]
    },
    {
      "cell_type": "code",
      "source": [
        "from langchain import hub\n",
        "\n",
        "\n",
        "prompt = hub.pull(\"rlm/rag-prompt\")\n",
        "\n",
        "context = \"El aprendizaje automático es una rama de la inteligencia artificial que se enfoca en desarrollar algoritmos que pueden aprender de los datos.\"\n",
        "question = \"¿Qué es el aprendizaje automático?\"\n",
        "\n",
        "example_messages = prompt.invoke(\n",
        "    {\"context\": context, \"question\": question}\n",
        ").to_messages()\n",
        "\n",
        "assert len(example_messages) == 1\n",
        "\n",
        "print(\"Mensaje generado:\")\n",
        "print(example_messages[0].content)"
      ],
      "metadata": {
        "colab": {
          "base_uri": "https://localhost:8080/"
        },
        "id": "geNqrUtu_UIu",
        "outputId": "ce7b3a62-5ff1-4af3-eb86-3185a056b047"
      },
      "execution_count": 26,
      "outputs": [
        {
          "output_type": "stream",
          "name": "stdout",
          "text": [
            "Mensaje generado:\n",
            "You are an assistant for question-answering tasks. Use the following pieces of retrieved context to answer the question. If you don't know the answer, just say that you don't know. Use three sentences maximum and keep the answer concise.\n",
            "Question: ¿Qué es el aprendizaje automático? \n",
            "Context: El aprendizaje automático es una rama de la inteligencia artificial que se enfoca en desarrollar algoritmos que pueden aprender de los datos. \n",
            "Answer:\n"
          ]
        }
      ]
    },
    {
      "cell_type": "code",
      "source": [
        "from langchain_openai import ChatOpenAI\n",
        "\n",
        "llm = ChatOpenAI(model=\"gpt-3.5-turbo\")\n",
        "\n",
        "response = llm.invoke(example_messages[0].content)\n",
        "\n",
        "print(\"Respuesta generada:\")\n",
        "print(response.content)"
      ],
      "metadata": {
        "colab": {
          "base_uri": "https://localhost:8080/"
        },
        "id": "IpYj2ZIPIl5L",
        "outputId": "ff77b99a-a94b-4e32-f85d-6ee3ae9c8871"
      },
      "execution_count": 27,
      "outputs": [
        {
          "output_type": "stream",
          "name": "stderr",
          "text": [
            "WARNING:langsmith.client:Failed to send compressed multipart ingest: langsmith.utils.LangSmithError: Failed to POST https://api.smith.langchain.com/runs/multipart in LangSmith API. HTTPError('403 Client Error: Forbidden for url: https://api.smith.langchain.com/runs/multipart', '{\"error\":\"Forbidden\"}\\n')\n"
          ]
        },
        {
          "output_type": "stream",
          "name": "stdout",
          "text": [
            "Respuesta generada:\n",
            "El aprendizaje automático es una disciplina dentro de la inteligencia artificial que se centra en crear algoritmos capaces de aprender de los datos proporcionados.\n"
          ]
        }
      ]
    },
    {
      "cell_type": "code",
      "source": [
        "from langchain_core.documents import Document\n",
        "from typing_extensions import List, TypedDict\n",
        "\n",
        "# Definir la estructura de datos tipada\n",
        "class State(TypedDict):\n",
        "    question: str\n",
        "    context: List[Document]\n",
        "    answer: str"
      ],
      "metadata": {
        "id": "Qxz9Qj1c_99M"
      },
      "execution_count": 28,
      "outputs": []
    },
    {
      "cell_type": "code",
      "source": [
        "def retrieve(state: State):\n",
        "    retrieved_docs = vector_store.similarity_search(state[\"question\"])\n",
        "    return {\"context\": retrieved_docs}\n",
        "\n",
        "\n",
        "def generate(state: State):\n",
        "    docs_content = \"\\n\\n\".join(doc.page_content for doc in state[\"context\"])\n",
        "    messages = prompt.invoke({\"question\": state[\"question\"], \"context\": docs_content})\n",
        "    response = llm.invoke(messages)\n",
        "    return {\"answer\": response.content}"
      ],
      "metadata": {
        "id": "TpsV46ENAFVe"
      },
      "execution_count": 29,
      "outputs": []
    },
    {
      "cell_type": "code",
      "source": [
        "from langgraph.graph import START, StateGraph\n",
        "from IPython.display import Image, display\n",
        "\n",
        "# Construir el grafo de flujo de trabajo\n",
        "graph_builder = StateGraph(State).add_sequence([retrieve, generate])\n",
        "graph_builder.add_edge(START, \"retrieve\")\n",
        "graph = graph_builder.compile()\n",
        "\n",
        "# Visualizar el grafo\n",
        "display(Image(graph.get_graph().draw_mermaid_png()))"
      ],
      "metadata": {
        "colab": {
          "base_uri": "https://localhost:8080/",
          "height": 251
        },
        "id": "VOQfgA_wNbWL",
        "outputId": "f448beaa-da67-48a6-ff50-b6643be32ec7"
      },
      "execution_count": 35,
      "outputs": [
        {
          "output_type": "display_data",
          "data": {
            "image/png": "[encoded data removed]",
            "text/plain": [
              "<IPython.core.display.Image object>"
            ]
          },
          "metadata": {}
        }
      ]
    },
    {
      "cell_type": "code",
      "source": [
        "# Definir el estado inicial\n",
        "state: State = {\n",
        "    \"question\": \"¿Qué es Python?\",\n",
        "    \"context\": [],\n",
        "    \"answer\": \"\"\n",
        "}\n",
        "\n",
        "# Paso 1: Recuperar documentos relevantes\n",
        "state.update(retrieve(state))\n",
        "\n",
        "# Paso 2: Generar una respuesta\n",
        "state.update(generate(state))\n",
        "\n",
        "# Mostrar el estado final\n",
        "print(\"Estado final:\")\n",
        "print(state)"
      ],
      "metadata": {
        "colab": {
          "base_uri": "https://localhost:8080/"
        },
        "id": "Sqhkmz3FMCoG",
        "outputId": "20693b39-16c1-4865-a958-fd2ae291e5d0"
      },
      "execution_count": 36,
      "outputs": [
        {
          "output_type": "stream",
          "name": "stderr",
          "text": [
            "WARNING:langsmith.client:Failed to send compressed multipart ingest: langsmith.utils.LangSmithError: Failed to POST https://api.smith.langchain.com/runs/multipart in LangSmith API. HTTPError('403 Client Error: Forbidden for url: https://api.smith.langchain.com/runs/multipart', '{\"error\":\"Forbidden\"}\\n')\n"
          ]
        },
        {
          "output_type": "stream",
          "name": "stdout",
          "text": [
            "Estado final:\n",
            "{'question': '¿Qué es Python?', 'context': [Document(id='3b50f531-68cd-4cbf-bd66-5afabc67f646', metadata={'source': 'https://docs.python.org/3/tutorial/index.html', 'start_index': 381}, page_content='The Python Tutorial¶\\nPython is an easy to learn, powerful programming language. It has efficient\\nhigh-level data structures and a simple but effective approach to\\nobject-oriented programming. Python’s elegant syntax and dynamic typing,\\ntogether with its interpreted nature, make it an ideal language for scripting\\nand rapid application development in many areas on most platforms.\\nThe Python interpreter and the extensive standard library are freely available\\nin source or binary form for all major platforms from the Python web site,\\nhttps://www.python.org/, and may be freely distributed. The same site also\\ncontains distributions of and pointers to many free third party Python modules,\\nprograms and tools, and additional documentation.\\nThe Python interpreter is easily extended with new functions and data types\\nimplemented in C or C++ (or other languages callable from C). Python is also\\nsuitable as an extension language for customizable applications.'), Document(id='a32f92e0-c06b-4cc7-809c-56fde686d2dc', metadata={'source': 'https://docs.python.org/3/tutorial/index.html', 'start_index': 1197}, page_content='implemented in C or C++ (or other languages callable from C). Python is also\\nsuitable as an extension language for customizable applications.\\nThis tutorial introduces the reader informally to the basic concepts and\\nfeatures of the Python language and system. It helps to have a Python\\ninterpreter handy for hands-on experience, but all examples are self-contained,\\nso the tutorial can be read off-line as well.\\nFor a description of standard objects and modules, see The Python Standard Library.\\nThe Python Language Reference gives a more formal definition of the language.  To write\\nextensions in C or C++, read Extending and Embedding the Python Interpreter and\\nPython/C API Reference Manual. There are also several books covering Python in depth.\\nThis tutorial does not attempt to be comprehensive and cover every single\\nfeature, or even every commonly used feature. Instead, it introduces many of\\nPython’s most noteworthy features, and will give you a good idea of the'), Document(id='1539da81-0168-47bc-b400-4b62bcb76778', metadata={'source': 'https://docs.python.org/3/tutorial/index.html', 'start_index': 2020}, page_content='feature, or even every commonly used feature. Instead, it introduces many of\\nPython’s most noteworthy features, and will give you a good idea of the\\nlanguage’s flavor and style. After reading it, you will be able to read and\\nwrite Python modules and programs, and you will be ready to learn more about the\\nvarious Python library modules described in The Python Standard Library.\\nThe Glossary is also worth going through.'), Document(id='d82468ea-0cfd-45b8-85c9-abc07ea83873', metadata={'source': 'https://docs.python.org/3/tutorial/index.html', 'start_index': 2443}, page_content='1. Whetting Your Appetite\\n2. Using the Python Interpreter\\n2.1. Invoking the Interpreter\\n2.1.1. Argument Passing\\n2.1.2. Interactive Mode\\n\\n\\n2.2. The Interpreter and Its Environment\\n2.2.1. Source Code Encoding\\n\\n\\n\\n\\n3. An Informal Introduction to Python\\n3.1. Using Python as a Calculator\\n3.1.1. Numbers\\n3.1.2. Text\\n3.1.3. Lists\\n\\n\\n3.2. First Steps Towards Programming\\n\\n\\n4. More Control Flow Tools\\n4.1. if Statements\\n4.2. for Statements\\n4.3. The range() Function\\n4.4. break and continue Statements\\n4.5. else Clauses on Loops\\n4.6. pass Statements\\n4.7. match Statements\\n4.8. Defining Functions\\n4.9. More on Defining Functions\\n4.9.1. Default Argument Values\\n4.9.2. Keyword Arguments\\n4.9.3. Special parameters\\n4.9.3.1. Positional-or-Keyword Arguments\\n4.9.3.2. Positional-Only Parameters\\n4.9.3.3. Keyword-Only Arguments\\n4.9.3.4. Function Examples\\n4.9.3.5. Recap')], 'answer': 'Python es un lenguaje de programación poderoso y fácil de aprender que tiene estructuras de datos eficientes y un enfoque simple pero efectivo para la programación orientada a objetos. Su sintaxis elegante y su tipificación dinámica, junto con su naturaleza interpretada, lo convierten en un lenguaje ideal para scripts y desarrollo de aplicaciones rápidas en muchas áreas y plataformas. Python es extensible con funciones y tipos de datos nuevos implementados en C o C++, y es adecuado como lenguaje de extensión para aplicaciones personalizables.'}\n"
          ]
        }
      ]
    },
    {
      "cell_type": "code",
      "source": [
        "# Definir el estado inicial\n",
        "state: State = {\n",
        "    \"question\": \"¿Qué es Python?\",\n",
        "    \"context\": [],\n",
        "    \"answer\": \"\"\n",
        "}\n",
        "\n",
        "# Ejecutar el grafo\n",
        "state = graph.invoke(state)\n",
        "\n",
        "# Mostrar el estado final\n",
        "print(\"Estado final:\")\n",
        "print(state)"
      ],
      "metadata": {
        "colab": {
          "base_uri": "https://localhost:8080/"
        },
        "id": "JYQ59rz4AM7_",
        "outputId": "7e81c57b-8b58-4992-be58-63f939ed4ee8"
      },
      "execution_count": 37,
      "outputs": [
        {
          "output_type": "stream",
          "name": "stderr",
          "text": [
            "WARNING:langsmith.client:Failed to send compressed multipart ingest: langsmith.utils.LangSmithError: Failed to POST https://api.smith.langchain.com/runs/multipart in LangSmith API. HTTPError('403 Client Error: Forbidden for url: https://api.smith.langchain.com/runs/multipart', '{\"error\":\"Forbidden\"}\\n')\n"
          ]
        },
        {
          "output_type": "stream",
          "name": "stdout",
          "text": [
            "Estado final:\n",
            "{'question': '¿Qué es Python?', 'context': [Document(id='3b50f531-68cd-4cbf-bd66-5afabc67f646', metadata={'source': 'https://docs.python.org/3/tutorial/index.html', 'start_index': 381}, page_content='The Python Tutorial¶\\nPython is an easy to learn, powerful programming language. It has efficient\\nhigh-level data structures and a simple but effective approach to\\nobject-oriented programming. Python’s elegant syntax and dynamic typing,\\ntogether with its interpreted nature, make it an ideal language for scripting\\nand rapid application development in many areas on most platforms.\\nThe Python interpreter and the extensive standard library are freely available\\nin source or binary form for all major platforms from the Python web site,\\nhttps://www.python.org/, and may be freely distributed. The same site also\\ncontains distributions of and pointers to many free third party Python modules,\\nprograms and tools, and additional documentation.\\nThe Python interpreter is easily extended with new functions and data types\\nimplemented in C or C++ (or other languages callable from C). Python is also\\nsuitable as an extension language for customizable applications.'), Document(id='a32f92e0-c06b-4cc7-809c-56fde686d2dc', metadata={'source': 'https://docs.python.org/3/tutorial/index.html', 'start_index': 1197}, page_content='implemented in C or C++ (or other languages callable from C). Python is also\\nsuitable as an extension language for customizable applications.\\nThis tutorial introduces the reader informally to the basic concepts and\\nfeatures of the Python language and system. It helps to have a Python\\ninterpreter handy for hands-on experience, but all examples are self-contained,\\nso the tutorial can be read off-line as well.\\nFor a description of standard objects and modules, see The Python Standard Library.\\nThe Python Language Reference gives a more formal definition of the language.  To write\\nextensions in C or C++, read Extending and Embedding the Python Interpreter and\\nPython/C API Reference Manual. There are also several books covering Python in depth.\\nThis tutorial does not attempt to be comprehensive and cover every single\\nfeature, or even every commonly used feature. Instead, it introduces many of\\nPython’s most noteworthy features, and will give you a good idea of the'), Document(id='1539da81-0168-47bc-b400-4b62bcb76778', metadata={'source': 'https://docs.python.org/3/tutorial/index.html', 'start_index': 2020}, page_content='feature, or even every commonly used feature. Instead, it introduces many of\\nPython’s most noteworthy features, and will give you a good idea of the\\nlanguage’s flavor and style. After reading it, you will be able to read and\\nwrite Python modules and programs, and you will be ready to learn more about the\\nvarious Python library modules described in The Python Standard Library.\\nThe Glossary is also worth going through.'), Document(id='d82468ea-0cfd-45b8-85c9-abc07ea83873', metadata={'source': 'https://docs.python.org/3/tutorial/index.html', 'start_index': 2443}, page_content='1. Whetting Your Appetite\\n2. Using the Python Interpreter\\n2.1. Invoking the Interpreter\\n2.1.1. Argument Passing\\n2.1.2. Interactive Mode\\n\\n\\n2.2. The Interpreter and Its Environment\\n2.2.1. Source Code Encoding\\n\\n\\n\\n\\n3. An Informal Introduction to Python\\n3.1. Using Python as a Calculator\\n3.1.1. Numbers\\n3.1.2. Text\\n3.1.3. Lists\\n\\n\\n3.2. First Steps Towards Programming\\n\\n\\n4. More Control Flow Tools\\n4.1. if Statements\\n4.2. for Statements\\n4.3. The range() Function\\n4.4. break and continue Statements\\n4.5. else Clauses on Loops\\n4.6. pass Statements\\n4.7. match Statements\\n4.8. Defining Functions\\n4.9. More on Defining Functions\\n4.9.1. Default Argument Values\\n4.9.2. Keyword Arguments\\n4.9.3. Special parameters\\n4.9.3.1. Positional-or-Keyword Arguments\\n4.9.3.2. Positional-Only Parameters\\n4.9.3.3. Keyword-Only Arguments\\n4.9.3.4. Function Examples\\n4.9.3.5. Recap')], 'answer': 'Python es un lenguaje de programación fácil de aprender y poderoso con estructuras de datos de alto nivel eficientes y enfoque efectivo en la programación orientada a objetos. Su sintaxis elegante, tipado dinámico e interpretación lo hacen ideal para desarrollo rápido de aplicaciones. Es ampliamente utilizado en muchas áreas y plataformas.'}\n"
          ]
        }
      ]
    },
    {
      "cell_type": "code",
      "source": [
        "from IPython.display import Image, display\n",
        "\n",
        "display(Image(graph.get_graph().draw_mermaid_png()))"
      ],
      "metadata": {
        "colab": {
          "base_uri": "https://localhost:8080/",
          "height": 251
        },
        "id": "8JAB5ZSAAVIP",
        "outputId": "a7b5997c-7882-45cb-93c7-f164c4ec6d11"
      },
      "execution_count": 38,
      "outputs": [
        {
          "output_type": "display_data",
          "data": {
            "image/png": "[encoded data removed]",
            "text/plain": [
              "<IPython.core.display.Image object>"
            ]
          },
          "metadata": {}
        }
      ]
    },
    {
      "cell_type": "code",
      "source": [],
      "metadata": {
        "id": "8ivSEgMJBRxc"
      },
      "execution_count": null,
      "outputs": []
    }
  ]
}